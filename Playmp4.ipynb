{
  "nbformat": 4,
  "nbformat_minor": 0,
  "metadata": {
    "colab": {
      "name": "Playmp4.ipynb",
      "provenance": [],
      "authorship_tag": "ABX9TyOErMFQptu1q+ZQY+4e7Qtq",
      "include_colab_link": true
    },
    "kernelspec": {
      "name": "python3",
      "display_name": "Python 3"
    }
  },
  "cells": [
    {
      "cell_type": "markdown",
      "metadata": {
        "id": "view-in-github",
        "colab_type": "text"
      },
      "source": [
        "<a href=\"https://colab.research.google.com/github/quanganhbn/M3u8Download/blob/master/Playmp4.ipynb\" target=\"_parent\"><img src=\"https://colab.research.google.com/assets/colab-badge.svg\" alt=\"Open In Colab\"/></a>"
      ]
    },
    {
      "cell_type": "code",
      "metadata": {
        "id": "8swyLtvatAIp"
      },
      "source": [
        "from google.colab import drive\n",
        "drive.mount('/content/drive')"
      ],
      "execution_count": null,
      "outputs": []
    },
    {
      "cell_type": "code",
      "metadata": {
        "id": "02QntyrEs-n4",
        "cellView": "form"
      },
      "source": [
        "#@title Default title text\n",
        "Input_url = \"\" #@param {type:\"string\"}\n",
        "!pip install -U kora\n",
        "from kora.drive import upload_public\n",
        "url = upload_public(Input_url)\n",
        "from IPython.display import HTML, clear_output\n",
        "clear_output()\n",
        "# then display it\n",
        "from IPython.display import HTML\n",
        "HTML(f\"\"\"<video src={url} width=1000 controls/>\"\"\")\n"
      ],
      "execution_count": null,
      "outputs": []
    }
  ]
}