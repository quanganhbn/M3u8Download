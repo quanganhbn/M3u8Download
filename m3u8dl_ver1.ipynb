{
  "nbformat": 4,
  "nbformat_minor": 0,
  "metadata": {
    "colab": {
      "name": "m3u8dl-ver1.ipynb",
      "provenance": [],
      "collapsed_sections": [],
      "authorship_tag": "ABX9TyM6zYzszZT4UiBgEkYdOxvl",
      "include_colab_link": true
    },
    "kernelspec": {
      "name": "python3",
      "display_name": "Python 3"
    }
  },
  "cells": [
    {
      "cell_type": "markdown",
      "metadata": {
        "id": "view-in-github",
        "colab_type": "text"
      },
      "source": [
        "<a href=\"https://colab.research.google.com/github/quanganhbn/M3u8Download/blob/master/m3u8dl_ver1.ipynb\" target=\"_parent\"><img src=\"https://colab.research.google.com/assets/colab-badge.svg\" alt=\"Open In Colab\"/></a>"
      ]
    },
    {
      "cell_type": "code",
      "metadata": {
        "id": "VtR6EDvmtfON"
      },
      "source": [
        "#@markdown <h3>⬅ Run This Cell to  Mount Gdrive\n",
        "from google.colab import drive\n",
        "drive.mount('/content/drive')"
      ],
      "execution_count": null,
      "outputs": []
    },
    {
      "cell_type": "code",
      "metadata": {
        "id": "qB_VAAOkr5RZ"
      },
      "source": [
        "!git clone https://github.com/anwenzen/M3u8Download.git\n",
        "!pip3 install ffmpeg\n"
      ],
      "execution_count": null,
      "outputs": []
    },
    {
      "cell_type": "code",
      "metadata": {
        "id": "wWLY8x5RwE4n"
      },
      "source": [
        "cd /content/drive/Shared drives/DUNGMORI"
      ],
      "execution_count": null,
      "outputs": []
    },
    {
      "cell_type": "code",
      "metadata": {
        "id": "poWa9cIQwJkt"
      },
      "source": [
        "!python3 /content/M3u8Download/M3u8Download.py"
      ],
      "execution_count": null,
      "outputs": []
    },
    {
      "cell_type": "code",
      "metadata": {
        "id": "_13122RdtEMt"
      },
      "source": [
        "#@markdown <h3>⬅️ Run This Cell to  Move Downloaded Courses to Gdrive\n",
        "!mv /content/M3u8Download/video \"/content/drive/Shared drives/DUNGMORI\""
      ],
      "execution_count": null,
      "outputs": []
    }
  ]
}